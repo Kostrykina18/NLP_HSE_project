{
 "cells": [
  {
   "cell_type": "markdown",
   "metadata": {
    "id": "I1dHhDv-x3m1"
   },
   "source": [
    "Imports\n",
    "\n"
   ]
  },
  {
   "cell_type": "code",
   "execution_count": 1,
   "metadata": {
    "colab": {
     "base_uri": "https://localhost:8080/",
     "height": 224
    },
    "id": "ZjPGv4my29cw",
    "outputId": "a6742146-300e-4f2f-ddcf-d36d03ce8564"
   },
   "outputs": [
    {
     "name": "stdout",
     "output_type": "stream",
     "text": [
      "Requirement already satisfied: pymorphy2 in c:\\users\\trekc\\appdata\\local\\programs\\python\\python38-32\\lib\\site-packages (0.9.1)\n",
      "Requirement already satisfied: pymorphy2-dicts-ru<3.0,>=2.4 in c:\\users\\trekc\\appdata\\local\\programs\\python\\python38-32\\lib\\site-packages (from pymorphy2) (2.4.404381.4453942)\n",
      "Requirement already satisfied: dawg-python>=0.7.1 in c:\\users\\trekc\\appdata\\local\\programs\\python\\python38-32\\lib\\site-packages (from pymorphy2) (0.7.2)\n",
      "Requirement already satisfied: docopt>=0.6 in c:\\users\\trekc\\appdata\\local\\programs\\python\\python38-32\\lib\\site-packages (from pymorphy2) (0.6.2)\n"
     ]
    }
   ],
   "source": [
    "! pip install pymorphy2"
   ]
  },
  {
   "cell_type": "code",
   "execution_count": 2,
   "metadata": {
    "colab": {
     "base_uri": "https://localhost:8080/",
     "height": 51
    },
    "id": "fIKaV9Pzxs5E",
    "outputId": "c0b07bc6-fb6c-4742-992d-73461b94a510"
   },
   "outputs": [
    {
     "name": "stderr",
     "output_type": "stream",
     "text": [
      "[nltk_data] Downloading package punkt to\n",
      "[nltk_data]     C:\\Users\\trekc\\AppData\\Roaming\\nltk_data...\n",
      "[nltk_data]   Package punkt is already up-to-date!\n"
     ]
    }
   ],
   "source": [
    "import re\n",
    "import numpy as np\n",
    "import pandas as pd\n",
    "from pymorphy2 import MorphAnalyzer\n",
    "\n",
    "from nltk.tokenize import word_tokenize\n",
    "import nltk\n",
    "nltk.download('punkt')\n",
    "\n",
    "from tqdm.notebook import tqdm"
   ]
  },
  {
   "cell_type": "code",
   "execution_count": 3,
   "metadata": {
    "id": "gx4zBWw2yHOk"
   },
   "outputs": [],
   "source": [
    "def clean(text):\n",
    "    text = text.lower().replace(\"ё\", \"е\")\n",
    "    text = re.sub('(https?://[^\\s]+)', '', text)\n",
    "    text = re.sub('@[^\\s]+', '', text)\n",
    "    text = re.sub('rt', '', text)\n",
    "    text = re.sub('[^а-яА-Я]+', ' ', text)\n",
    "    text = re.sub(' +', ' ', text)\n",
    "    text = text.strip()\n",
    "    return text"
   ]
  },
  {
   "cell_type": "code",
   "execution_count": 6,
   "metadata": {
    "id": "t85_8nY_ySAv"
   },
   "outputs": [],
   "source": [
    "d_pos = pd.read_csv('positive.csv', sep=';')\n",
    "d_pos.columns = ['id', 'b', 'c', 'text', 'sent', 'f', 'g', 'h', 'i', 'j', 'k', 'l']\n",
    "d_neg = pd.read_csv('negative.csv', sep=';')\n",
    "d_neg.columns = ['id', 'b', 'c', 'text', 'sent', 'f', 'g', 'h', 'i', 'j', 'k', 'l']"
   ]
  },
  {
   "cell_type": "code",
   "execution_count": 7,
   "metadata": {
    "id": "IsOQnXKSfj_q"
   },
   "outputs": [],
   "source": [
    "dp = d_pos[['id','text']][:5000]\n",
    "dn = d_neg[['id','text']][:5000]"
   ]
  },
  {
   "cell_type": "code",
   "execution_count": 8,
   "metadata": {
    "colab": {
     "base_uri": "https://localhost:8080/",
     "height": 419
    },
    "id": "-bPq_3zifR7n",
    "outputId": "15c7c940-2ebf-4685-9db3-41ede67e4ffb"
   },
   "outputs": [
    {
     "data": {
      "text/html": [
       "<div>\n",
       "<style scoped>\n",
       "    .dataframe tbody tr th:only-of-type {\n",
       "        vertical-align: middle;\n",
       "    }\n",
       "\n",
       "    .dataframe tbody tr th {\n",
       "        vertical-align: top;\n",
       "    }\n",
       "\n",
       "    .dataframe thead th {\n",
       "        text-align: right;\n",
       "    }\n",
       "</style>\n",
       "<table border=\"1\" class=\"dataframe\">\n",
       "  <thead>\n",
       "    <tr style=\"text-align: right;\">\n",
       "      <th></th>\n",
       "      <th>id</th>\n",
       "      <th>text</th>\n",
       "    </tr>\n",
       "  </thead>\n",
       "  <tbody>\n",
       "    <tr>\n",
       "      <th>0</th>\n",
       "      <td>408906692693221377</td>\n",
       "      <td>Да, все-таки он немного похож на него. Но мой ...</td>\n",
       "    </tr>\n",
       "    <tr>\n",
       "      <th>1</th>\n",
       "      <td>408906695083954177</td>\n",
       "      <td>RT @KatiaCheh: Ну ты идиотка) я испугалась за ...</td>\n",
       "    </tr>\n",
       "    <tr>\n",
       "      <th>2</th>\n",
       "      <td>408906695356973056</td>\n",
       "      <td>RT @digger2912: \"Кто то в углу сидит и погибае...</td>\n",
       "    </tr>\n",
       "    <tr>\n",
       "      <th>3</th>\n",
       "      <td>408906761416867842</td>\n",
       "      <td>@irina_dyshkant Вот что значит страшилка :D\\nН...</td>\n",
       "    </tr>\n",
       "    <tr>\n",
       "      <th>4</th>\n",
       "      <td>408906761769598976</td>\n",
       "      <td>ну любишь или нет? — Я не знаю кто ты бля:D ht...</td>\n",
       "    </tr>\n",
       "    <tr>\n",
       "      <th>...</th>\n",
       "      <td>...</td>\n",
       "      <td>...</td>\n",
       "    </tr>\n",
       "    <tr>\n",
       "      <th>9995</th>\n",
       "      <td>409766375364644864</td>\n",
       "      <td>ой(( я совсем забыла восстановить старый аккау...</td>\n",
       "    </tr>\n",
       "    <tr>\n",
       "      <th>9996</th>\n",
       "      <td>409766474010886144</td>\n",
       "      <td>Ну и где ночной твиттер? Все спят что ли? Так ...</td>\n",
       "    </tr>\n",
       "    <tr>\n",
       "      <th>9997</th>\n",
       "      <td>409766520009793536</td>\n",
       "      <td>Девочка моя,спасибо тебе за этот вечер .мне оч...</td>\n",
       "    </tr>\n",
       "    <tr>\n",
       "      <th>9998</th>\n",
       "      <td>409766520425054208</td>\n",
       "      <td>@DianaPalicina долго объяснять:((( все плохо,вот</td>\n",
       "    </tr>\n",
       "    <tr>\n",
       "      <th>9999</th>\n",
       "      <td>409766565857337344</td>\n",
       "      <td>@comandanteNS @LevSharansky а вот эти не копят...</td>\n",
       "    </tr>\n",
       "  </tbody>\n",
       "</table>\n",
       "<p>10000 rows × 2 columns</p>\n",
       "</div>"
      ],
      "text/plain": [
       "                      id                                               text\n",
       "0     408906692693221377  Да, все-таки он немного похож на него. Но мой ...\n",
       "1     408906695083954177  RT @KatiaCheh: Ну ты идиотка) я испугалась за ...\n",
       "2     408906695356973056  RT @digger2912: \"Кто то в углу сидит и погибае...\n",
       "3     408906761416867842  @irina_dyshkant Вот что значит страшилка :D\\nН...\n",
       "4     408906761769598976  ну любишь или нет? — Я не знаю кто ты бля:D ht...\n",
       "...                  ...                                                ...\n",
       "9995  409766375364644864  ой(( я совсем забыла восстановить старый аккау...\n",
       "9996  409766474010886144  Ну и где ночной твиттер? Все спят что ли? Так ...\n",
       "9997  409766520009793536  Девочка моя,спасибо тебе за этот вечер .мне оч...\n",
       "9998  409766520425054208   @DianaPalicina долго объяснять:((( все плохо,вот\n",
       "9999  409766565857337344  @comandanteNS @LevSharansky а вот эти не копят...\n",
       "\n",
       "[10000 rows x 2 columns]"
      ]
     },
     "execution_count": 8,
     "metadata": {},
     "output_type": "execute_result"
    }
   ],
   "source": [
    "new_df = pd.concat([dp, dn], ignore_index=True)\n",
    "new_df "
   ]
  },
  {
   "cell_type": "code",
   "execution_count": 9,
   "metadata": {
    "colab": {
     "base_uri": "https://localhost:8080/",
     "height": 419
    },
    "id": "eivInKVhydLl",
    "outputId": "9a4f725a-faaf-4648-e5d3-ac2a5d28467b"
   },
   "outputs": [
    {
     "data": {
      "text/html": [
       "<div>\n",
       "<style scoped>\n",
       "    .dataframe tbody tr th:only-of-type {\n",
       "        vertical-align: middle;\n",
       "    }\n",
       "\n",
       "    .dataframe tbody tr th {\n",
       "        vertical-align: top;\n",
       "    }\n",
       "\n",
       "    .dataframe thead th {\n",
       "        text-align: right;\n",
       "    }\n",
       "</style>\n",
       "<table border=\"1\" class=\"dataframe\">\n",
       "  <thead>\n",
       "    <tr style=\"text-align: right;\">\n",
       "      <th></th>\n",
       "      <th>id</th>\n",
       "      <th>text</th>\n",
       "    </tr>\n",
       "  </thead>\n",
       "  <tbody>\n",
       "    <tr>\n",
       "      <th>0</th>\n",
       "      <td>408906692693221377</td>\n",
       "      <td>да все таки он немного похож на него но мой ма...</td>\n",
       "    </tr>\n",
       "    <tr>\n",
       "      <th>1</th>\n",
       "      <td>408906695083954177</td>\n",
       "      <td>ну ты идиотка я испугалась за тебя</td>\n",
       "    </tr>\n",
       "    <tr>\n",
       "      <th>2</th>\n",
       "      <td>408906695356973056</td>\n",
       "      <td>кто то в углу сидит и погибает от голода а мы ...</td>\n",
       "    </tr>\n",
       "    <tr>\n",
       "      <th>3</th>\n",
       "      <td>408906761416867842</td>\n",
       "      <td>вот что значит страшилка но блин посмотрев все...</td>\n",
       "    </tr>\n",
       "    <tr>\n",
       "      <th>4</th>\n",
       "      <td>408906761769598976</td>\n",
       "      <td>ну любишь или нет я не знаю кто ты бля</td>\n",
       "    </tr>\n",
       "    <tr>\n",
       "      <th>...</th>\n",
       "      <td>...</td>\n",
       "      <td>...</td>\n",
       "    </tr>\n",
       "    <tr>\n",
       "      <th>9995</th>\n",
       "      <td>409766375364644864</td>\n",
       "      <td>ой я совсем забыла восстановить старый аккаунт...</td>\n",
       "    </tr>\n",
       "    <tr>\n",
       "      <th>9996</th>\n",
       "      <td>409766474010886144</td>\n",
       "      <td>ну и где ночной твиттер все спят что ли так лю...</td>\n",
       "    </tr>\n",
       "    <tr>\n",
       "      <th>9997</th>\n",
       "      <td>409766520009793536</td>\n",
       "      <td>девочка моя спасибо тебе за этот вечер мне оче...</td>\n",
       "    </tr>\n",
       "    <tr>\n",
       "      <th>9998</th>\n",
       "      <td>409766520425054208</td>\n",
       "      <td>долго объяснять все плохо вот</td>\n",
       "    </tr>\n",
       "    <tr>\n",
       "      <th>9999</th>\n",
       "      <td>409766565857337344</td>\n",
       "      <td>а вот эти не копят</td>\n",
       "    </tr>\n",
       "  </tbody>\n",
       "</table>\n",
       "<p>10000 rows × 2 columns</p>\n",
       "</div>"
      ],
      "text/plain": [
       "                      id                                               text\n",
       "0     408906692693221377  да все таки он немного похож на него но мой ма...\n",
       "1     408906695083954177                 ну ты идиотка я испугалась за тебя\n",
       "2     408906695356973056  кто то в углу сидит и погибает от голода а мы ...\n",
       "3     408906761416867842  вот что значит страшилка но блин посмотрев все...\n",
       "4     408906761769598976             ну любишь или нет я не знаю кто ты бля\n",
       "...                  ...                                                ...\n",
       "9995  409766375364644864  ой я совсем забыла восстановить старый аккаунт...\n",
       "9996  409766474010886144  ну и где ночной твиттер все спят что ли так лю...\n",
       "9997  409766520009793536  девочка моя спасибо тебе за этот вечер мне оче...\n",
       "9998  409766520425054208                      долго объяснять все плохо вот\n",
       "9999  409766565857337344                                 а вот эти не копят\n",
       "\n",
       "[10000 rows x 2 columns]"
      ]
     },
     "execution_count": 9,
     "metadata": {},
     "output_type": "execute_result"
    }
   ],
   "source": [
    "new_df['text'] = [clean(t) for t in new_df['text']]\n",
    "new_df"
   ]
  },
  {
   "cell_type": "code",
   "execution_count": 10,
   "metadata": {
    "id": "sIxDREzn9Wsw"
   },
   "outputs": [],
   "source": [
    "def pymorphy_ana(text):\n",
    "    lemmas = []\n",
    "    pos = []\n",
    "    text = word_tokenize(text)\n",
    "    for word in text:\n",
    "        if word != '.':\n",
    "            ana = MorphAnalyzer().parse(word)\n",
    "            lemmas.append(ana[0].normal_form)\n",
    "            if ana[0].tag.POS != None:\n",
    "                pos.append(ana[0].tag.POS) \n",
    "            else:\n",
    "                pos.append('None')\n",
    "    lemmas = ' '.join(lemmas)          \n",
    "    pos = ' '.join(pos)\n",
    "    return lemmas, pos"
   ]
  },
  {
   "cell_type": "code",
   "execution_count": 11,
   "metadata": {
    "colab": {
     "base_uri": "https://localhost:8080/",
     "height": 49,
     "referenced_widgets": [
      "2af99a99464f423088b5c4b03f5b0d76",
      "bf23a6ce2ab24316b64493af69dca23e",
      "a0095ae30ed640b6ac7dd5f99642238b",
      "d0fa0fa3d760417eba49e11d24d1edba",
      "11580abbc0714525a55df6f11cd2860a",
      "cd8233b4222441fab3218214f1973a08",
      "78dbb04732194b2da42bffd4b9813a70",
      "9cbdbf36b7134dbc8147e24bd7e9fb89"
     ]
    },
    "id": "TaadUDYS4pzw",
    "outputId": "ba460fde-ff4e-4a35-af57-b049ec6e9ca1"
   },
   "outputs": [
    {
     "data": {
      "application/vnd.jupyter.widget-view+json": {
       "model_id": "2ee5f59ad3764431a6614a1645978197",
       "version_major": 2,
       "version_minor": 0
      },
      "text/plain": [
       "HBox(children=(HTML(value=''), FloatProgress(value=0.0, max=10000.0), HTML(value='')))"
      ]
     },
     "metadata": {},
     "output_type": "display_data"
    },
    {
     "name": "stdout",
     "output_type": "stream",
     "text": [
      "\n"
     ]
    }
   ],
   "source": [
    "prep = [pymorphy_ana(i) for i in tqdm(new_df['text'])]"
   ]
  },
  {
   "cell_type": "code",
   "execution_count": 12,
   "metadata": {
    "id": "94DYhQvx3wWs"
   },
   "outputs": [],
   "source": [
    "lemmas = [i[0] for i in prep]\n",
    "pos = [i[1] for i in prep]"
   ]
  },
  {
   "cell_type": "code",
   "execution_count": 13,
   "metadata": {
    "colab": {
     "base_uri": "https://localhost:8080/",
     "height": 323
    },
    "id": "ja0IuUOd5cFr",
    "outputId": "9ae4ca6b-1d1a-4166-f221-27cbc3f4e329"
   },
   "outputs": [],
   "source": [
    "new_df['lemmas'] = lemmas\n",
    "new_df['pos'] = pos"
   ]
  },
  {
   "cell_type": "code",
   "execution_count": 14,
   "metadata": {
    "id": "-dQh4tPJ59Y0"
   },
   "outputs": [
    {
     "data": {
      "text/html": [
       "<div>\n",
       "<style scoped>\n",
       "    .dataframe tbody tr th:only-of-type {\n",
       "        vertical-align: middle;\n",
       "    }\n",
       "\n",
       "    .dataframe tbody tr th {\n",
       "        vertical-align: top;\n",
       "    }\n",
       "\n",
       "    .dataframe thead th {\n",
       "        text-align: right;\n",
       "    }\n",
       "</style>\n",
       "<table border=\"1\" class=\"dataframe\">\n",
       "  <thead>\n",
       "    <tr style=\"text-align: right;\">\n",
       "      <th></th>\n",
       "      <th>id</th>\n",
       "      <th>text</th>\n",
       "      <th>lemmas</th>\n",
       "      <th>pos</th>\n",
       "    </tr>\n",
       "  </thead>\n",
       "  <tbody>\n",
       "    <tr>\n",
       "      <th>0</th>\n",
       "      <td>408906692693221377</td>\n",
       "      <td>да все таки он немного похож на него но мой ма...</td>\n",
       "      <td>да всё таки он немного похожий на оно но мыть ...</td>\n",
       "      <td>PRCL PRCL PRCL NPRO ADVB ADJS PREP NPRO CONJ V...</td>\n",
       "    </tr>\n",
       "    <tr>\n",
       "      <th>1</th>\n",
       "      <td>408906695083954177</td>\n",
       "      <td>ну ты идиотка я испугалась за тебя</td>\n",
       "      <td>ну ты идиотка я испугаться за ты</td>\n",
       "      <td>PRCL NPRO NOUN NPRO VERB PREP NPRO</td>\n",
       "    </tr>\n",
       "    <tr>\n",
       "      <th>2</th>\n",
       "      <td>408906695356973056</td>\n",
       "      <td>кто то в углу сидит и погибает от голода а мы ...</td>\n",
       "      <td>кто то в угол сидеть и погибать от голод а мы ...</td>\n",
       "      <td>NPRO CONJ PREP NOUN VERB CONJ VERB PREP NOUN C...</td>\n",
       "    </tr>\n",
       "    <tr>\n",
       "      <th>3</th>\n",
       "      <td>408906761416867842</td>\n",
       "      <td>вот что значит страшилка но блин посмотрев все...</td>\n",
       "      <td>вот что значит страшилка но блин посмотреть вс...</td>\n",
       "      <td>PRCL CONJ CONJ NOUN CONJ INTJ GRND PRCL NOUN P...</td>\n",
       "    </tr>\n",
       "    <tr>\n",
       "      <th>4</th>\n",
       "      <td>408906761769598976</td>\n",
       "      <td>ну любишь или нет я не знаю кто ты бля</td>\n",
       "      <td>ну любить или нет я не знать кто ты бля</td>\n",
       "      <td>PRCL VERB CONJ PRED NPRO PRCL VERB NPRO NPRO INTJ</td>\n",
       "    </tr>\n",
       "    <tr>\n",
       "      <th>...</th>\n",
       "      <td>...</td>\n",
       "      <td>...</td>\n",
       "      <td>...</td>\n",
       "      <td>...</td>\n",
       "    </tr>\n",
       "    <tr>\n",
       "      <th>9995</th>\n",
       "      <td>409766375364644864</td>\n",
       "      <td>ой я совсем забыла восстановить старый аккаунт...</td>\n",
       "      <td>ой я совсем забыть восстановить старый аккаунт...</td>\n",
       "      <td>INTJ NPRO ADVB VERB INFN ADJF NOUN CONJ NOUN A...</td>\n",
       "    </tr>\n",
       "    <tr>\n",
       "      <th>9996</th>\n",
       "      <td>409766474010886144</td>\n",
       "      <td>ну и где ночной твиттер все спят что ли так лю...</td>\n",
       "      <td>ну и где ночной твиттер всё спать что ли так л...</td>\n",
       "      <td>PRCL CONJ ADVB ADJF NOUN PRCL VERB CONJ PRCL C...</td>\n",
       "    </tr>\n",
       "    <tr>\n",
       "      <th>9997</th>\n",
       "      <td>409766520009793536</td>\n",
       "      <td>девочка моя спасибо тебе за этот вечер мне оче...</td>\n",
       "      <td>девочка мой спасибо ты за этот вечер я очень т...</td>\n",
       "      <td>NOUN ADJF INTJ NPRO PREP ADJF NOUN NPRO ADVB N...</td>\n",
       "    </tr>\n",
       "    <tr>\n",
       "      <th>9998</th>\n",
       "      <td>409766520425054208</td>\n",
       "      <td>долго объяснять все плохо вот</td>\n",
       "      <td>долго объяснять всё плохо вот</td>\n",
       "      <td>ADVB INFN PRCL PRED PRCL</td>\n",
       "    </tr>\n",
       "    <tr>\n",
       "      <th>9999</th>\n",
       "      <td>409766565857337344</td>\n",
       "      <td>а вот эти не копят</td>\n",
       "      <td>а вот этот не копить</td>\n",
       "      <td>CONJ PRCL ADJF PRCL VERB</td>\n",
       "    </tr>\n",
       "  </tbody>\n",
       "</table>\n",
       "<p>10000 rows × 4 columns</p>\n",
       "</div>"
      ],
      "text/plain": [
       "                      id                                               text  \\\n",
       "0     408906692693221377  да все таки он немного похож на него но мой ма...   \n",
       "1     408906695083954177                 ну ты идиотка я испугалась за тебя   \n",
       "2     408906695356973056  кто то в углу сидит и погибает от голода а мы ...   \n",
       "3     408906761416867842  вот что значит страшилка но блин посмотрев все...   \n",
       "4     408906761769598976             ну любишь или нет я не знаю кто ты бля   \n",
       "...                  ...                                                ...   \n",
       "9995  409766375364644864  ой я совсем забыла восстановить старый аккаунт...   \n",
       "9996  409766474010886144  ну и где ночной твиттер все спят что ли так лю...   \n",
       "9997  409766520009793536  девочка моя спасибо тебе за этот вечер мне оче...   \n",
       "9998  409766520425054208                      долго объяснять все плохо вот   \n",
       "9999  409766565857337344                                 а вот эти не копят   \n",
       "\n",
       "                                                 lemmas  \\\n",
       "0     да всё таки он немного похожий на оно но мыть ...   \n",
       "1                      ну ты идиотка я испугаться за ты   \n",
       "2     кто то в угол сидеть и погибать от голод а мы ...   \n",
       "3     вот что значит страшилка но блин посмотреть вс...   \n",
       "4               ну любить или нет я не знать кто ты бля   \n",
       "...                                                 ...   \n",
       "9995  ой я совсем забыть восстановить старый аккаунт...   \n",
       "9996  ну и где ночной твиттер всё спать что ли так л...   \n",
       "9997  девочка мой спасибо ты за этот вечер я очень т...   \n",
       "9998                      долго объяснять всё плохо вот   \n",
       "9999                               а вот этот не копить   \n",
       "\n",
       "                                                    pos  \n",
       "0     PRCL PRCL PRCL NPRO ADVB ADJS PREP NPRO CONJ V...  \n",
       "1                    PRCL NPRO NOUN NPRO VERB PREP NPRO  \n",
       "2     NPRO CONJ PREP NOUN VERB CONJ VERB PREP NOUN C...  \n",
       "3     PRCL CONJ CONJ NOUN CONJ INTJ GRND PRCL NOUN P...  \n",
       "4     PRCL VERB CONJ PRED NPRO PRCL VERB NPRO NPRO INTJ  \n",
       "...                                                 ...  \n",
       "9995  INTJ NPRO ADVB VERB INFN ADJF NOUN CONJ NOUN A...  \n",
       "9996  PRCL CONJ ADVB ADJF NOUN PRCL VERB CONJ PRCL C...  \n",
       "9997  NOUN ADJF INTJ NPRO PREP ADJF NOUN NPRO ADVB N...  \n",
       "9998                           ADVB INFN PRCL PRED PRCL  \n",
       "9999                           CONJ PRCL ADJF PRCL VERB  \n",
       "\n",
       "[10000 rows x 4 columns]"
      ]
     },
     "execution_count": 14,
     "metadata": {},
     "output_type": "execute_result"
    }
   ],
   "source": [
    "new_df"
   ]
  },
  {
   "cell_type": "code",
   "execution_count": 15,
   "metadata": {
    "id": "Z9_LmdWrg7wu"
   },
   "outputs": [],
   "source": [
    "new_df.to_csv('dataset.csv', index=False)"
   ]
  }
 ],
 "metadata": {
  "colab": {
   "collapsed_sections": [],
   "name": "make_dataset.ipynb",
   "provenance": []
  },
  "kernelspec": {
   "display_name": "Python 3",
   "language": "python",
   "name": "python3"
  },
  "language_info": {
   "codemirror_mode": {
    "name": "ipython",
    "version": 3
   },
   "file_extension": ".py",
   "mimetype": "text/x-python",
   "name": "python",
   "nbconvert_exporter": "python",
   "pygments_lexer": "ipython3",
   "version": "3.7.4"
  },
  "widgets": {
   "application/vnd.jupyter.widget-state+json": {
    "11580abbc0714525a55df6f11cd2860a": {
     "model_module": "@jupyter-widgets/controls",
     "model_name": "ProgressStyleModel",
     "state": {
      "_model_module": "@jupyter-widgets/controls",
      "_model_module_version": "1.5.0",
      "_model_name": "ProgressStyleModel",
      "_view_count": null,
      "_view_module": "@jupyter-widgets/base",
      "_view_module_version": "1.2.0",
      "_view_name": "StyleView",
      "bar_color": null,
      "description_width": "initial"
     }
    },
    "2af99a99464f423088b5c4b03f5b0d76": {
     "model_module": "@jupyter-widgets/controls",
     "model_name": "HBoxModel",
     "state": {
      "_dom_classes": [],
      "_model_module": "@jupyter-widgets/controls",
      "_model_module_version": "1.5.0",
      "_model_name": "HBoxModel",
      "_view_count": null,
      "_view_module": "@jupyter-widgets/controls",
      "_view_module_version": "1.5.0",
      "_view_name": "HBoxView",
      "box_style": "",
      "children": [
       "IPY_MODEL_a0095ae30ed640b6ac7dd5f99642238b",
       "IPY_MODEL_d0fa0fa3d760417eba49e11d24d1edba"
      ],
      "layout": "IPY_MODEL_bf23a6ce2ab24316b64493af69dca23e"
     }
    },
    "78dbb04732194b2da42bffd4b9813a70": {
     "model_module": "@jupyter-widgets/controls",
     "model_name": "DescriptionStyleModel",
     "state": {
      "_model_module": "@jupyter-widgets/controls",
      "_model_module_version": "1.5.0",
      "_model_name": "DescriptionStyleModel",
      "_view_count": null,
      "_view_module": "@jupyter-widgets/base",
      "_view_module_version": "1.2.0",
      "_view_name": "StyleView",
      "description_width": ""
     }
    },
    "9cbdbf36b7134dbc8147e24bd7e9fb89": {
     "model_module": "@jupyter-widgets/base",
     "model_name": "LayoutModel",
     "state": {
      "_model_module": "@jupyter-widgets/base",
      "_model_module_version": "1.2.0",
      "_model_name": "LayoutModel",
      "_view_count": null,
      "_view_module": "@jupyter-widgets/base",
      "_view_module_version": "1.2.0",
      "_view_name": "LayoutView",
      "align_content": null,
      "align_items": null,
      "align_self": null,
      "border": null,
      "bottom": null,
      "display": null,
      "flex": null,
      "flex_flow": null,
      "grid_area": null,
      "grid_auto_columns": null,
      "grid_auto_flow": null,
      "grid_auto_rows": null,
      "grid_column": null,
      "grid_gap": null,
      "grid_row": null,
      "grid_template_areas": null,
      "grid_template_columns": null,
      "grid_template_rows": null,
      "height": null,
      "justify_content": null,
      "justify_items": null,
      "left": null,
      "margin": null,
      "max_height": null,
      "max_width": null,
      "min_height": null,
      "min_width": null,
      "object_fit": null,
      "object_position": null,
      "order": null,
      "overflow": null,
      "overflow_x": null,
      "overflow_y": null,
      "padding": null,
      "right": null,
      "top": null,
      "visibility": null,
      "width": null
     }
    },
    "a0095ae30ed640b6ac7dd5f99642238b": {
     "model_module": "@jupyter-widgets/controls",
     "model_name": "FloatProgressModel",
     "state": {
      "_dom_classes": [],
      "_model_module": "@jupyter-widgets/controls",
      "_model_module_version": "1.5.0",
      "_model_name": "FloatProgressModel",
      "_view_count": null,
      "_view_module": "@jupyter-widgets/controls",
      "_view_module_version": "1.5.0",
      "_view_name": "ProgressView",
      "bar_style": "",
      "description": "  0%",
      "description_tooltip": null,
      "layout": "IPY_MODEL_cd8233b4222441fab3218214f1973a08",
      "max": 10000,
      "min": 0,
      "orientation": "horizontal",
      "style": "IPY_MODEL_11580abbc0714525a55df6f11cd2860a",
      "value": 16
     }
    },
    "bf23a6ce2ab24316b64493af69dca23e": {
     "model_module": "@jupyter-widgets/base",
     "model_name": "LayoutModel",
     "state": {
      "_model_module": "@jupyter-widgets/base",
      "_model_module_version": "1.2.0",
      "_model_name": "LayoutModel",
      "_view_count": null,
      "_view_module": "@jupyter-widgets/base",
      "_view_module_version": "1.2.0",
      "_view_name": "LayoutView",
      "align_content": null,
      "align_items": null,
      "align_self": null,
      "border": null,
      "bottom": null,
      "display": null,
      "flex": null,
      "flex_flow": null,
      "grid_area": null,
      "grid_auto_columns": null,
      "grid_auto_flow": null,
      "grid_auto_rows": null,
      "grid_column": null,
      "grid_gap": null,
      "grid_row": null,
      "grid_template_areas": null,
      "grid_template_columns": null,
      "grid_template_rows": null,
      "height": null,
      "justify_content": null,
      "justify_items": null,
      "left": null,
      "margin": null,
      "max_height": null,
      "max_width": null,
      "min_height": null,
      "min_width": null,
      "object_fit": null,
      "object_position": null,
      "order": null,
      "overflow": null,
      "overflow_x": null,
      "overflow_y": null,
      "padding": null,
      "right": null,
      "top": null,
      "visibility": null,
      "width": null
     }
    },
    "cd8233b4222441fab3218214f1973a08": {
     "model_module": "@jupyter-widgets/base",
     "model_name": "LayoutModel",
     "state": {
      "_model_module": "@jupyter-widgets/base",
      "_model_module_version": "1.2.0",
      "_model_name": "LayoutModel",
      "_view_count": null,
      "_view_module": "@jupyter-widgets/base",
      "_view_module_version": "1.2.0",
      "_view_name": "LayoutView",
      "align_content": null,
      "align_items": null,
      "align_self": null,
      "border": null,
      "bottom": null,
      "display": null,
      "flex": null,
      "flex_flow": null,
      "grid_area": null,
      "grid_auto_columns": null,
      "grid_auto_flow": null,
      "grid_auto_rows": null,
      "grid_column": null,
      "grid_gap": null,
      "grid_row": null,
      "grid_template_areas": null,
      "grid_template_columns": null,
      "grid_template_rows": null,
      "height": null,
      "justify_content": null,
      "justify_items": null,
      "left": null,
      "margin": null,
      "max_height": null,
      "max_width": null,
      "min_height": null,
      "min_width": null,
      "object_fit": null,
      "object_position": null,
      "order": null,
      "overflow": null,
      "overflow_x": null,
      "overflow_y": null,
      "padding": null,
      "right": null,
      "top": null,
      "visibility": null,
      "width": null
     }
    },
    "d0fa0fa3d760417eba49e11d24d1edba": {
     "model_module": "@jupyter-widgets/controls",
     "model_name": "HTMLModel",
     "state": {
      "_dom_classes": [],
      "_model_module": "@jupyter-widgets/controls",
      "_model_module_version": "1.5.0",
      "_model_name": "HTMLModel",
      "_view_count": null,
      "_view_module": "@jupyter-widgets/controls",
      "_view_module_version": "1.5.0",
      "_view_name": "HTMLView",
      "description": "",
      "description_tooltip": null,
      "layout": "IPY_MODEL_9cbdbf36b7134dbc8147e24bd7e9fb89",
      "placeholder": "​",
      "style": "IPY_MODEL_78dbb04732194b2da42bffd4b9813a70",
      "value": " 15/10000 [00:27&lt;5:16:16,  1.90s/it]"
     }
    }
   }
  }
 },
 "nbformat": 4,
 "nbformat_minor": 1
}
