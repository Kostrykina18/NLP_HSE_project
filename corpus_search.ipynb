{
  "nbformat": 4,
  "nbformat_minor": 0,
  "metadata": {
    "colab": {
      "name": "это_супер_проект.ipynb",
      "provenance": [],
      "collapsed_sections": []
    },
    "kernelspec": {
      "name": "python3",
      "display_name": "Python 3"
    }
  },
  "cells": [
    {
      "cell_type": "markdown",
      "metadata": {
        "id": "I1dHhDv-x3m1"
      },
      "source": [
        "Imports\n",
        "\n"
      ]
    },
    {
      "cell_type": "code",
      "metadata": {
        "id": "ZjPGv4my29cw",
        "outputId": "0615a8a4-1510-496f-e6cf-bd279fae9433",
        "colab": {
          "base_uri": "https://localhost:8080/",
          "height": 87
        }
      },
      "source": [
        "! pip install pymorphy2"
      ],
      "execution_count": null,
      "outputs": [
        {
          "output_type": "stream",
          "text": [
            "Requirement already satisfied: pymorphy2 in /usr/local/lib/python3.6/dist-packages (0.9.1)\n",
            "Requirement already satisfied: docopt>=0.6 in /usr/local/lib/python3.6/dist-packages (from pymorphy2) (0.6.2)\n",
            "Requirement already satisfied: pymorphy2-dicts-ru<3.0,>=2.4 in /usr/local/lib/python3.6/dist-packages (from pymorphy2) (2.4.417127.4579844)\n",
            "Requirement already satisfied: dawg-python>=0.7.1 in /usr/local/lib/python3.6/dist-packages (from pymorphy2) (0.7.2)\n"
          ],
          "name": "stdout"
        }
      ]
    },
    {
      "cell_type": "code",
      "metadata": {
        "id": "fIKaV9Pzxs5E",
        "outputId": "505b51d0-a6e3-4a75-e565-b1cf2c52456f",
        "colab": {
          "base_uri": "https://localhost:8080/",
          "height": 69
        }
      },
      "source": [
        "import re\n",
        "import numpy as np\n",
        "import pandas as pd\n",
        "from pymorphy2 import MorphAnalyzer\n",
        "from  more_itertools import unique_everseen\n",
        "\n",
        "from nltk.tokenize import word_tokenize\n",
        "import nltk\n",
        "nltk.download('punkt')"
      ],
      "execution_count": null,
      "outputs": [
        {
          "output_type": "stream",
          "text": [
            "[nltk_data] Downloading package punkt to /root/nltk_data...\n",
            "[nltk_data]   Package punkt is already up-to-date!\n"
          ],
          "name": "stdout"
        },
        {
          "output_type": "execute_result",
          "data": {
            "text/plain": [
              "True"
            ]
          },
          "metadata": {
            "tags": []
          },
          "execution_count": 64
        }
      ]
    },
    {
      "cell_type": "code",
      "metadata": {
        "id": "gx4zBWw2yHOk"
      },
      "source": [
        "def clean(text):\n",
        "    text = text.lower().replace(\"ё\", \"е\")\n",
        "    text = re.sub('(https?://[^\\s]+)', '', text)\n",
        "    text = re.sub('@[^\\s]+', '', text)\n",
        "    text = re.sub('rt', '', text)\n",
        "    text = re.sub('[^а-яА-Я]+', ' ', text)\n",
        "    text = re.sub(' +', ' ', text)\n",
        "    text = text.strip()\n",
        "    return text"
      ],
      "execution_count": null,
      "outputs": []
    },
    {
      "cell_type": "code",
      "metadata": {
        "id": "LO_whQrQTov1"
      },
      "source": [
        "def pymorphy_pos(text):\n",
        "    pos = []\n",
        "    text = word_tokenize(text)\n",
        "    for word in text:\n",
        "        if word != '.':\n",
        "            ana = MorphAnalyzer().parse(word)\n",
        "            if ana[0].tag.POS != None:\n",
        "              pos.append(ana[0].tag.POS) \n",
        "    pos = ' '.join(pos)\n",
        "    return pos\n",
        "\n",
        "def pymorphy_lemmas(text):\n",
        "    lemmas = []\n",
        "    text = word_tokenize(text)\n",
        "    for word in text:\n",
        "        if word != '.':\n",
        "            ana = MorphAnalyzer().parse(word)\n",
        "            lemmas.append(ana[0].normal_form)        \n",
        "    lemmas = ' '.join(lemmas)\n",
        "    return lemmas"
      ],
      "execution_count": null,
      "outputs": []
    },
    {
      "cell_type": "markdown",
      "metadata": {
        "id": "ygx3J_4qYAc9"
      },
      "source": [
        "1 столбец"
      ]
    },
    {
      "cell_type": "code",
      "metadata": {
        "id": "k2MLIRKbLzD5"
      },
      "source": [
        "data = pd.read_csv('dataset.csv')"
      ],
      "execution_count": null,
      "outputs": []
    },
    {
      "cell_type": "code",
      "metadata": {
        "id": "jlvJwnvx3yg4",
        "outputId": "3413d23b-de24-4ea7-be3c-450a64ad6154",
        "colab": {
          "base_uri": "https://localhost:8080/",
          "height": 505
        }
      },
      "source": [
        "data"
      ],
      "execution_count": 90,
      "outputs": [
        {
          "output_type": "execute_result",
          "data": {
            "text/html": [
              "<div>\n",
              "<style scoped>\n",
              "    .dataframe tbody tr th:only-of-type {\n",
              "        vertical-align: middle;\n",
              "    }\n",
              "\n",
              "    .dataframe tbody tr th {\n",
              "        vertical-align: top;\n",
              "    }\n",
              "\n",
              "    .dataframe thead th {\n",
              "        text-align: right;\n",
              "    }\n",
              "</style>\n",
              "<table border=\"1\" class=\"dataframe\">\n",
              "  <thead>\n",
              "    <tr style=\"text-align: right;\">\n",
              "      <th></th>\n",
              "      <th>id</th>\n",
              "      <th>text</th>\n",
              "      <th>lemmas</th>\n",
              "      <th>pos</th>\n",
              "    </tr>\n",
              "  </thead>\n",
              "  <tbody>\n",
              "    <tr>\n",
              "      <th>0</th>\n",
              "      <td>408906692693221377</td>\n",
              "      <td>да все таки он немного похож на него но мой ма...</td>\n",
              "      <td>да всё таки он немного похожий на оно но мыть ...</td>\n",
              "      <td>PRCL PRCL PRCL NPRO ADVB ADJS PREP NPRO CONJ V...</td>\n",
              "    </tr>\n",
              "    <tr>\n",
              "      <th>1</th>\n",
              "      <td>408906695083954177</td>\n",
              "      <td>ну ты идиотка я испугалась за тебя</td>\n",
              "      <td>ну ты идиотка я испугаться за ты</td>\n",
              "      <td>PRCL NPRO NOUN NPRO VERB PREP NPRO</td>\n",
              "    </tr>\n",
              "    <tr>\n",
              "      <th>2</th>\n",
              "      <td>408906695356973056</td>\n",
              "      <td>кто то в углу сидит и погибает от голода а мы ...</td>\n",
              "      <td>кто то в угол сидеть и погибать от голод а мы ...</td>\n",
              "      <td>NPRO CONJ PREP NOUN VERB CONJ VERB PREP NOUN C...</td>\n",
              "    </tr>\n",
              "    <tr>\n",
              "      <th>3</th>\n",
              "      <td>408906761416867842</td>\n",
              "      <td>вот что значит страшилка но блин посмотрев все...</td>\n",
              "      <td>вот что значит страшилка но блин посмотреть вс...</td>\n",
              "      <td>PRCL CONJ CONJ NOUN CONJ INTJ GRND PRCL NOUN P...</td>\n",
              "    </tr>\n",
              "    <tr>\n",
              "      <th>4</th>\n",
              "      <td>408906761769598976</td>\n",
              "      <td>ну любишь или нет я не знаю кто ты бля</td>\n",
              "      <td>ну любить или нет я не знать кто ты бля</td>\n",
              "      <td>PRCL VERB CONJ PRED NPRO PRCL VERB NPRO NPRO INTJ</td>\n",
              "    </tr>\n",
              "    <tr>\n",
              "      <th>...</th>\n",
              "      <td>...</td>\n",
              "      <td>...</td>\n",
              "      <td>...</td>\n",
              "      <td>...</td>\n",
              "    </tr>\n",
              "    <tr>\n",
              "      <th>9995</th>\n",
              "      <td>409766375364644864</td>\n",
              "      <td>ой я совсем забыла восстановить старый аккаунт...</td>\n",
              "      <td>ой я совсем забыть восстановить старый аккаунт...</td>\n",
              "      <td>INTJ NPRO ADVB VERB INFN ADJF NOUN CONJ NOUN A...</td>\n",
              "    </tr>\n",
              "    <tr>\n",
              "      <th>9996</th>\n",
              "      <td>409766474010886144</td>\n",
              "      <td>ну и где ночной твиттер все спят что ли так лю...</td>\n",
              "      <td>ну и где ночной твиттер всё спать что ли так л...</td>\n",
              "      <td>PRCL CONJ ADVB ADJF NOUN PRCL VERB CONJ PRCL C...</td>\n",
              "    </tr>\n",
              "    <tr>\n",
              "      <th>9997</th>\n",
              "      <td>409766520009793536</td>\n",
              "      <td>девочка моя спасибо тебе за этот вечер мне оче...</td>\n",
              "      <td>девочка мой спасибо ты за этот вечер я очень т...</td>\n",
              "      <td>NOUN ADJF INTJ NPRO PREP ADJF NOUN NPRO ADVB N...</td>\n",
              "    </tr>\n",
              "    <tr>\n",
              "      <th>9998</th>\n",
              "      <td>409766520425054208</td>\n",
              "      <td>долго объяснять все плохо вот</td>\n",
              "      <td>долго объяснять всё плохо вот</td>\n",
              "      <td>ADVB INFN PRCL PRED PRCL</td>\n",
              "    </tr>\n",
              "    <tr>\n",
              "      <th>9999</th>\n",
              "      <td>409766565857337344</td>\n",
              "      <td>а вот эти не копят</td>\n",
              "      <td>а вот этот не копить</td>\n",
              "      <td>CONJ PRCL ADJF PRCL VERB</td>\n",
              "    </tr>\n",
              "  </tbody>\n",
              "</table>\n",
              "<p>10000 rows × 4 columns</p>\n",
              "</div>"
            ],
            "text/plain": [
              "                      id  ...                                                pos\n",
              "0     408906692693221377  ...  PRCL PRCL PRCL NPRO ADVB ADJS PREP NPRO CONJ V...\n",
              "1     408906695083954177  ...                 PRCL NPRO NOUN NPRO VERB PREP NPRO\n",
              "2     408906695356973056  ...  NPRO CONJ PREP NOUN VERB CONJ VERB PREP NOUN C...\n",
              "3     408906761416867842  ...  PRCL CONJ CONJ NOUN CONJ INTJ GRND PRCL NOUN P...\n",
              "4     408906761769598976  ...  PRCL VERB CONJ PRED NPRO PRCL VERB NPRO NPRO INTJ\n",
              "...                  ...  ...                                                ...\n",
              "9995  409766375364644864  ...  INTJ NPRO ADVB VERB INFN ADJF NOUN CONJ NOUN A...\n",
              "9996  409766474010886144  ...  PRCL CONJ ADVB ADJF NOUN PRCL VERB CONJ PRCL C...\n",
              "9997  409766520009793536  ...  NOUN ADJF INTJ NPRO PREP ADJF NOUN NPRO ADVB N...\n",
              "9998  409766520425054208  ...                           ADVB INFN PRCL PRED PRCL\n",
              "9999  409766565857337344  ...                           CONJ PRCL ADJF PRCL VERB\n",
              "\n",
              "[10000 rows x 4 columns]"
            ]
          },
          "metadata": {
            "tags": []
          },
          "execution_count": 90
        }
      ]
    },
    {
      "cell_type": "code",
      "metadata": {
        "id": "AoFch90_RRAh"
      },
      "source": [
        "def pymorphy_lemmas(text):\n",
        "    lemmas = []\n",
        "    text = word_tokenize(text)\n",
        "    for word in text:\n",
        "        if word != '.':\n",
        "            ana = MorphAnalyzer().parse(word)\n",
        "            lemmas.append(ana[0].normal_form)        \n",
        "    lemmas = ' '.join(lemmas)\n",
        "    return lemmas"
      ],
      "execution_count": null,
      "outputs": []
    },
    {
      "cell_type": "code",
      "metadata": {
        "id": "VnHwuh1ML80t"
      },
      "source": [
        "# эта ищет поиск - нужно найти все предложения, где слово встречается в любой форме\n",
        "\n",
        "def search_all(word_input):\n",
        "  words = pymorphy_lemmas(word_input)\n",
        "  words = words.split(' ')\n",
        "  output = []\n",
        "  for idx, sentence in enumerate(data['lemmas']):\n",
        "    sen = word_tokenize(sentence)\n",
        "    for i, word in enumerate(sen):\n",
        "      if len(words) == 1 and word == words[0]:\n",
        "        output.append(idx)\n",
        "      elif len(words) == 2:\n",
        "        try:\n",
        "          if word == words[0] and sen[i+1] == words[1]:\n",
        "            output.append(idx)\n",
        "        except:\n",
        "          pass\n",
        "      elif len(words) == 3:\n",
        "        try:\n",
        "          if word == words[0] and sen[i+1] == words[1] and sen[i+2] == words[2]:\n",
        "            output.append(idx)\n",
        "        except:\n",
        "          pass\n",
        "  out = pd.DataFrame()\n",
        "  out['id'] = data['id'].iloc[output]\n",
        "  out['text'] = data['text'].iloc[output]\n",
        "  return out"
      ],
      "execution_count": null,
      "outputs": []
    },
    {
      "cell_type": "code",
      "metadata": {
        "id": "owL6j3Qpw1Oj"
      },
      "source": [
        "# “поиска” - нужно найти предложения только с этой формой\n",
        "# NOUN - найти все предложения с существительными\n",
        "\n",
        "def search_exact(word_inputs):\n",
        "  word_inputs = re.sub('\"', '', word_inputs)\n",
        "  words = word_inputs.split(' ')\n",
        "  output = []\n",
        "  for idx, sentence in enumerate(data['text']):\n",
        "    sen = word_tokenize(sentence)\n",
        "    for i, word in enumerate(sen):\n",
        "      if len(words) == 1 and word == words[0]:\n",
        "        output.append(idx)\n",
        "      elif len(words) == 2:\n",
        "        try:\n",
        "          if word == words[0] and sen[i+1] == words[1]:\n",
        "            output.append(idx)\n",
        "        except:\n",
        "          pass\n",
        "      elif len(words) == 3:\n",
        "        try:\n",
        "          if word == words[0] and sen[i+1] == words[1] and sen[i+2] == words[2]:\n",
        "            output.append(idx)\n",
        "        except:\n",
        "          pass\n",
        "  out = pd.DataFrame()\n",
        "  out['id'] = data['id'].iloc[output]\n",
        "  out['text'] = data['text'].iloc[output]\n",
        "  return out "
      ],
      "execution_count": null,
      "outputs": []
    },
    {
      "cell_type": "code",
      "metadata": {
        "id": "IK-_M5NfpZMu"
      },
      "source": [
        "# search(‘NOUN VERB ADVB’)\n",
        "\n",
        "def search_pos(poses_all):\n",
        "  poses = poses_all.upper()\n",
        "  ids = []\n",
        "  texts = []\n",
        "  if len(poses.split(' '))>3:\n",
        "    print('Эта программа не ищет такие длинные строчки.')\n",
        "  else:\n",
        "   for p in data['pos']:\n",
        "      if poses in p:\n",
        "        id = data.loc[data['pos']== p ].index.values\n",
        "        ids.append(id[0])\n",
        "   output = pd.DataFrame()\n",
        "   output['id']=data['id'].iloc[ids]\n",
        "   output['text']=data['text'].iloc[ids]\n",
        "   return output"
      ],
      "execution_count": null,
      "outputs": []
    },
    {
      "cell_type": "code",
      "metadata": {
        "id": "2y9YxUF3L8d5"
      },
      "source": [
        "def search_word_by_pos(word):                          \n",
        "  splitted_word = word.split('+')\n",
        "  word = pymorphy_lemmas(splitted_word[0])\n",
        "  id_lines = []\n",
        "  out = []\n",
        "  fin_id_lines =[]\n",
        "  for line in data['lemmas']:\n",
        "    if word in line:\n",
        "      id_line = data.loc[data['lemmas']== line ].index.values\n",
        "      id_lines.append(id_line[0])\n",
        "      splitted_line = line.split(' ')\n",
        "      count_idx = 0\n",
        "      for w in splitted_line:\n",
        "        if w == word:\n",
        "          count_idx = count_idx\n",
        "        else:\n",
        "          count_idx +=1\n",
        "    for i in id_lines:\n",
        "      pos_index = 0\n",
        "      poses = data['pos'][i]\n",
        "      for pos in poses:\n",
        "        if pos == splitted_word[1]:\n",
        "          pos_index = pos_index\n",
        "        else:\n",
        "          pos_index += 1\n",
        "        if pos_index == count_idx:\n",
        "          out.append(data['text'][i])\n",
        "          fin_id_lines.append(id_line[0])\n",
        "  unique_sentences = list(unique_everseen(out))\n",
        "  unique_id_lines = list(unique_everseen(fin_id_lines))\n",
        "  output = pd.DataFrame()\n",
        "  output['id'] = data['id'].iloc[unique_id_lines]\n",
        "  output['text']= unique_sentences\n",
        "  return output"
      ],
      "execution_count": null,
      "outputs": []
    },
    {
      "cell_type": "code",
      "metadata": {
        "id": "5FbFk_enPQGV"
      },
      "source": [
        "def search(input):\n",
        "  input = input.split()\n",
        "  output = []\n",
        "  type_of_input = [] #список, в котором лежат типы элементов инпута\n",
        "  for i in input:\n",
        "    if '\"' in i:\n",
        "      i = re.sub('\"', '', i)\n",
        "      output.append(search_exact(i).index.values)\n",
        "      type_of_input.append('exactform') \n",
        "    elif '+' in i:\n",
        "      output.append(search_word_by_pos(i).index.values)\n",
        "      type_of_input.append('wordbypos')\n",
        "    elif i.isupper():\n",
        "      output.append(search_pos(i).index.values)\n",
        "      type_of_input.append('pos')\n",
        "    else:\n",
        "      output.append(search_all(i).index.values)\n",
        "      type_of_input.append('notexact')\n",
        "  inter = set(output[0])\n",
        "  for i in output[1:]:\n",
        "    inter = inter.intersection(set(i))\n",
        "  if len(input) == 1:\n",
        "    inter = [i for i in inter]\n",
        "    output = pd.DataFrame()\n",
        "    output['id']=data['id'].iloc[inter]\n",
        "    output['text']=data['text'].iloc[inter]\n",
        "  else:\n",
        "    idxs = []\n",
        "    for index in inter:\n",
        "      num = 0\n",
        "      numbers = []\n",
        "      for el in input: #берем элемент ввода\n",
        "        el = re.sub('\"', '', el)\n",
        "        typeinput = type_of_input[num] #тип элемента ввода \n",
        "        num +=1\n",
        "        if typeinput == 'exactform': #если точная форма, ищем номер элемента в нужной строчке столбца \"текст\"\n",
        "          needtext = data['text'][index] #ищем нужное предложение\n",
        "          text = needtext.split(' ') #разбиваем текст, чтобы вытащить номер нужного слова \n",
        "          number = text.index(el) #добавляем номер элемента ввода в список (чтобы потом проверить, подряд ли они)\n",
        "          numbers.append(number)\n",
        "        if typeinput == 'pos': \n",
        "          needtext = data['pos'][index] #ищем нужное предложение\n",
        "          text = needtext.split(' ') #разбиваем текст, чтобы вытащить номер нужного слова \n",
        "          number = text.index(el)\n",
        "          numbers.append(number)\n",
        "        if typeinput == 'notexact': \n",
        "          element = pymorphy_lemmas(el)\n",
        "          needtext = data['lemmas'][index] #ищем нужное предложение\n",
        "          text = needtext.split(' ') #разбиваем текст, чтобы вытащить номер нужного слова \n",
        "          number = text.index(element)\n",
        "          numbers.append(number)\n",
        "        if typeinput == 'wordbypos': \n",
        "          el_sp = el.split('+')\n",
        "          element_ = pymorphy_lemmas(el_sp[0])\n",
        "          needtext = data['lemmas'][index] #ищем нужное предложение\n",
        "          needpos= data['pos'][index]\n",
        "          text = needtext.split(' ') #разбиваем текст, чтобы вытащить номер нужного слова \n",
        "          pos = needpos.split(' ')\n",
        "          numtext = text.index(element_) \n",
        "          numpos = pos.index(el_sp[1])\n",
        "          if numtext == numpos:\n",
        "            numbers.append(numtext)\n",
        "      n = 0\n",
        "      for i in range(0,len(numbers)-1):\n",
        "        if numbers[i] == (numbers[i+1])-1:\n",
        "          n+=1\n",
        "      if (n == len(numbers)-1):\n",
        "        idxs.append(index)\n",
        "    output = pd.DataFrame()\n",
        "    output['id']=data['id'].iloc[idxs]\n",
        "    output['text']=data['text'].iloc[idxs]\n",
        "\n",
        "  return output"
      ],
      "execution_count": null,
      "outputs": []
    },
    {
      "cell_type": "code",
      "metadata": {
        "id": "Qfvkg1uWoA6V",
        "outputId": "21b0a4e3-3bed-45a0-8853-0091b602c9bd",
        "colab": {
          "base_uri": "https://localhost:8080/",
          "height": 404
        }
      },
      "source": [
        "search('люблю')"
      ],
      "execution_count": null,
      "outputs": [
        {
          "output_type": "execute_result",
          "data": {
            "text/html": [
              "<div>\n",
              "<style scoped>\n",
              "    .dataframe tbody tr th:only-of-type {\n",
              "        vertical-align: middle;\n",
              "    }\n",
              "\n",
              "    .dataframe tbody tr th {\n",
              "        vertical-align: top;\n",
              "    }\n",
              "\n",
              "    .dataframe thead th {\n",
              "        text-align: right;\n",
              "    }\n",
              "</style>\n",
              "<table border=\"1\" class=\"dataframe\">\n",
              "  <thead>\n",
              "    <tr style=\"text-align: right;\">\n",
              "      <th></th>\n",
              "      <th>id</th>\n",
              "      <th>text</th>\n",
              "    </tr>\n",
              "  </thead>\n",
              "  <tbody>\n",
              "    <tr>\n",
              "      <th>3585</th>\n",
              "      <td>409049842615197696</td>\n",
              "      <td>тато я тебе люблю тв й дзв нок п дняв настр й</td>\n",
              "    </tr>\n",
              "    <tr>\n",
              "      <th>6147</th>\n",
              "      <td>409106804342530048</td>\n",
              "      <td>хочу чтоб меня любили но я не заслуживаю этого</td>\n",
              "    </tr>\n",
              "    <tr>\n",
              "      <th>4</th>\n",
              "      <td>408906761769598976</td>\n",
              "      <td>ну любишь или нет я не знаю кто ты бля</td>\n",
              "    </tr>\n",
              "    <tr>\n",
              "      <th>3078</th>\n",
              "      <td>409045014803931136</td>\n",
              "      <td>как ты тут просто такая милашка люблю тебяяя</td>\n",
              "    </tr>\n",
              "    <tr>\n",
              "      <th>5639</th>\n",
              "      <td>409060030659719168</td>\n",
              "      <td>ая думаю что она ко мне привязалась серьезно д...</td>\n",
              "    </tr>\n",
              "    <tr>\n",
              "      <th>...</th>\n",
              "      <td>...</td>\n",
              "      <td>...</td>\n",
              "    </tr>\n",
              "    <tr>\n",
              "      <th>5109</th>\n",
              "      <td>408916300837453824</td>\n",
              "      <td>меня никто не любит потому что я очкарик</td>\n",
              "    </tr>\n",
              "    <tr>\n",
              "      <th>1015</th>\n",
              "      <td>408917928156082176</td>\n",
              "      <td>черниковка очень любит путина первомайская</td>\n",
              "    </tr>\n",
              "    <tr>\n",
              "      <th>4602</th>\n",
              "      <td>409057602245754881</td>\n",
              "      <td>урааааа мой любимый вернулся с армии я самая с...</td>\n",
              "    </tr>\n",
              "    <tr>\n",
              "      <th>4603</th>\n",
              "      <td>409057602870714368</td>\n",
              "      <td>люблю зерненый творог и прочие полезные продук...</td>\n",
              "    </tr>\n",
              "    <tr>\n",
              "      <th>7164</th>\n",
              "      <td>409340623679148032</td>\n",
              "      <td>скажите пожалуйста я одна из вас всех не люблю...</td>\n",
              "    </tr>\n",
              "  </tbody>\n",
              "</table>\n",
              "<p>240 rows × 2 columns</p>\n",
              "</div>"
            ],
            "text/plain": [
              "                      id                                               text\n",
              "3585  409049842615197696      тато я тебе люблю тв й дзв нок п дняв настр й\n",
              "6147  409106804342530048     хочу чтоб меня любили но я не заслуживаю этого\n",
              "4     408906761769598976             ну любишь или нет я не знаю кто ты бля\n",
              "3078  409045014803931136       как ты тут просто такая милашка люблю тебяяя\n",
              "5639  409060030659719168  ая думаю что она ко мне привязалась серьезно д...\n",
              "...                  ...                                                ...\n",
              "5109  408916300837453824           меня никто не любит потому что я очкарик\n",
              "1015  408917928156082176         черниковка очень любит путина первомайская\n",
              "4602  409057602245754881  урааааа мой любимый вернулся с армии я самая с...\n",
              "4603  409057602870714368  люблю зерненый творог и прочие полезные продук...\n",
              "7164  409340623679148032  скажите пожалуйста я одна из вас всех не люблю...\n",
              "\n",
              "[240 rows x 2 columns]"
            ]
          },
          "metadata": {
            "tags": []
          },
          "execution_count": 66
        }
      ]
    },
    {
      "cell_type": "code",
      "metadata": {
        "id": "zEidlibQnvQi",
        "outputId": "07ffcae9-89e1-4f36-8891-75073e85ae77",
        "colab": {
          "base_uri": "https://localhost:8080/",
          "height": 316
        }
      },
      "source": [
        "search('\"мимими\"')"
      ],
      "execution_count": null,
      "outputs": [
        {
          "output_type": "execute_result",
          "data": {
            "text/html": [
              "<div>\n",
              "<style scoped>\n",
              "    .dataframe tbody tr th:only-of-type {\n",
              "        vertical-align: middle;\n",
              "    }\n",
              "\n",
              "    .dataframe tbody tr th {\n",
              "        vertical-align: top;\n",
              "    }\n",
              "\n",
              "    .dataframe thead th {\n",
              "        text-align: right;\n",
              "    }\n",
              "</style>\n",
              "<table border=\"1\" class=\"dataframe\">\n",
              "  <thead>\n",
              "    <tr style=\"text-align: right;\">\n",
              "      <th></th>\n",
              "      <th>id</th>\n",
              "      <th>text</th>\n",
              "    </tr>\n",
              "  </thead>\n",
              "  <tbody>\n",
              "    <tr>\n",
              "      <th>6432</th>\n",
              "      <td>409206636365238272</td>\n",
              "      <td>ничего себе за что ты же такой мимими</td>\n",
              "    </tr>\n",
              "    <tr>\n",
              "      <th>5</th>\n",
              "      <td>408906762436481024</td>\n",
              "      <td>ох ну это конечно же чтобы у нее было много др...</td>\n",
              "    </tr>\n",
              "    <tr>\n",
              "      <th>8491</th>\n",
              "      <td>409513654284214273</td>\n",
              "      <td>прошел аж час я прочитал половину жуйколенты м...</td>\n",
              "    </tr>\n",
              "    <tr>\n",
              "      <th>2931</th>\n",
              "      <td>409043655992049664</td>\n",
              "      <td>вот так я не агрессивная я мимими</td>\n",
              "    </tr>\n",
              "    <tr>\n",
              "      <th>8372</th>\n",
              "      <td>409499991921922048</td>\n",
              "      <td>прошел аж час я прочитал половину жуйколенты м...</td>\n",
              "    </tr>\n",
              "    <tr>\n",
              "      <th>6618</th>\n",
              "      <td>409294520325787648</td>\n",
              "      <td>пока обновлял свой арч я со скоростью кб сек к...</td>\n",
              "    </tr>\n",
              "    <tr>\n",
              "      <th>4315</th>\n",
              "      <td>409055071981170688</td>\n",
              "      <td>сильна сильнааа это не уродско это необычно и ...</td>\n",
              "    </tr>\n",
              "    <tr>\n",
              "      <th>1372</th>\n",
              "      <td>408921568513765377</td>\n",
              "      <td>рома малая извращенка душик мимими все с тобой...</td>\n",
              "    </tr>\n",
              "    <tr>\n",
              "      <th>4541</th>\n",
              "      <td>409056996952776704</td>\n",
              "      <td>мимими спасибо но я так гонять не очень лююблю</td>\n",
              "    </tr>\n",
              "  </tbody>\n",
              "</table>\n",
              "</div>"
            ],
            "text/plain": [
              "                      id                                               text\n",
              "6432  409206636365238272              ничего себе за что ты же такой мимими\n",
              "5     408906762436481024  ох ну это конечно же чтобы у нее было много др...\n",
              "8491  409513654284214273  прошел аж час я прочитал половину жуйколенты м...\n",
              "2931  409043655992049664                  вот так я не агрессивная я мимими\n",
              "8372  409499991921922048  прошел аж час я прочитал половину жуйколенты м...\n",
              "6618  409294520325787648  пока обновлял свой арч я со скоростью кб сек к...\n",
              "4315  409055071981170688  сильна сильнааа это не уродско это необычно и ...\n",
              "1372  408921568513765377  рома малая извращенка душик мимими все с тобой...\n",
              "4541  409056996952776704     мимими спасибо но я так гонять не очень лююблю"
            ]
          },
          "metadata": {
            "tags": []
          },
          "execution_count": 65
        }
      ]
    },
    {
      "cell_type": "code",
      "metadata": {
        "id": "IFdNfxdSpLWA",
        "outputId": "ec40d797-6c4f-4aee-feb2-4bb17b1f7bea",
        "colab": {
          "base_uri": "https://localhost:8080/",
          "height": 404
        }
      },
      "source": [
        "search('мой+NPRO')"
      ],
      "execution_count": null,
      "outputs": [
        {
          "output_type": "execute_result",
          "data": {
            "text/html": [
              "<div>\n",
              "<style scoped>\n",
              "    .dataframe tbody tr th:only-of-type {\n",
              "        vertical-align: middle;\n",
              "    }\n",
              "\n",
              "    .dataframe tbody tr th {\n",
              "        vertical-align: top;\n",
              "    }\n",
              "\n",
              "    .dataframe thead th {\n",
              "        text-align: right;\n",
              "    }\n",
              "</style>\n",
              "<table border=\"1\" class=\"dataframe\">\n",
              "  <thead>\n",
              "    <tr style=\"text-align: right;\">\n",
              "      <th></th>\n",
              "      <th>id</th>\n",
              "      <th>text</th>\n",
              "    </tr>\n",
              "  </thead>\n",
              "  <tbody>\n",
              "    <tr>\n",
              "      <th>6</th>\n",
              "      <td>408906764114206720</td>\n",
              "      <td>у тебя есть ухажер нет мои уши не кто не жрет</td>\n",
              "    </tr>\n",
              "    <tr>\n",
              "      <th>7</th>\n",
              "      <td>408906764608749568</td>\n",
              "      <td>поприветствуем моего нового читателя</td>\n",
              "    </tr>\n",
              "    <tr>\n",
              "      <th>6157</th>\n",
              "      <td>409107243054157824</td>\n",
              "      <td>самое страшное оказалось правдой прости мои са...</td>\n",
              "    </tr>\n",
              "    <tr>\n",
              "      <th>2065</th>\n",
              "      <td>408928495582973952</td>\n",
              "      <td>оленьи и собачьи упряжки в лапландии моя новая...</td>\n",
              "    </tr>\n",
              "    <tr>\n",
              "      <th>2066</th>\n",
              "      <td>408928495889182721</td>\n",
              "      <td>ну по тупой причине я пообщалась с подругой ах...</td>\n",
              "    </tr>\n",
              "    <tr>\n",
              "      <th>...</th>\n",
              "      <td>...</td>\n",
              "      <td>...</td>\n",
              "    </tr>\n",
              "    <tr>\n",
              "      <th>4078</th>\n",
              "      <td>409053259815714817</td>\n",
              "      <td>вечер прошел замечательно рождественская истор...</td>\n",
              "    </tr>\n",
              "    <tr>\n",
              "      <th>8182</th>\n",
              "      <td>409435620764041217</td>\n",
              "      <td>она трогает моего мужа ета шлюха</td>\n",
              "    </tr>\n",
              "    <tr>\n",
              "      <th>8185</th>\n",
              "      <td>409435795129643008</td>\n",
              "      <td>засранцы передали авторизацию из за этого все ...</td>\n",
              "    </tr>\n",
              "    <tr>\n",
              "      <th>8187</th>\n",
              "      <td>409435882543140864</td>\n",
              "      <td>дота это такая херня из за которой хочется домой</td>\n",
              "    </tr>\n",
              "    <tr>\n",
              "      <th>4094</th>\n",
              "      <td>409053471682617345</td>\n",
              "      <td>завтра у моей тян день рождение нужно что то п...</td>\n",
              "    </tr>\n",
              "  </tbody>\n",
              "</table>\n",
              "<p>488 rows × 2 columns</p>\n",
              "</div>"
            ],
            "text/plain": [
              "                      id                                               text\n",
              "6     408906764114206720      у тебя есть ухажер нет мои уши не кто не жрет\n",
              "7     408906764608749568               поприветствуем моего нового читателя\n",
              "6157  409107243054157824  самое страшное оказалось правдой прости мои са...\n",
              "2065  408928495582973952  оленьи и собачьи упряжки в лапландии моя новая...\n",
              "2066  408928495889182721  ну по тупой причине я пообщалась с подругой ах...\n",
              "...                  ...                                                ...\n",
              "4078  409053259815714817  вечер прошел замечательно рождественская истор...\n",
              "8182  409435620764041217                   она трогает моего мужа ета шлюха\n",
              "8185  409435795129643008  засранцы передали авторизацию из за этого все ...\n",
              "8187  409435882543140864   дота это такая херня из за которой хочется домой\n",
              "4094  409053471682617345  завтра у моей тян день рождение нужно что то п...\n",
              "\n",
              "[488 rows x 2 columns]"
            ]
          },
          "metadata": {
            "tags": []
          },
          "execution_count": 67
        }
      ]
    },
    {
      "cell_type": "code",
      "metadata": {
        "id": "9zwJWcg8pimv",
        "outputId": "bc5b3b07-ca0f-499a-f820-8793941f1706",
        "colab": {
          "base_uri": "https://localhost:8080/",
          "height": 404
        }
      },
      "source": [
        "search('ADVB ADJF NOUN')"
      ],
      "execution_count": null,
      "outputs": [
        {
          "output_type": "execute_result",
          "data": {
            "text/html": [
              "<div>\n",
              "<style scoped>\n",
              "    .dataframe tbody tr th:only-of-type {\n",
              "        vertical-align: middle;\n",
              "    }\n",
              "\n",
              "    .dataframe tbody tr th {\n",
              "        vertical-align: top;\n",
              "    }\n",
              "\n",
              "    .dataframe thead th {\n",
              "        text-align: right;\n",
              "    }\n",
              "</style>\n",
              "<table border=\"1\" class=\"dataframe\">\n",
              "  <thead>\n",
              "    <tr style=\"text-align: right;\">\n",
              "      <th></th>\n",
              "      <th>id</th>\n",
              "      <th>text</th>\n",
              "    </tr>\n",
              "  </thead>\n",
              "  <tbody>\n",
              "    <tr>\n",
              "      <th>124</th>\n",
              "      <td>408908174234628096</td>\n",
              "      <td>влюбляешься автоматически классные слова</td>\n",
              "    </tr>\n",
              "    <tr>\n",
              "      <th>128</th>\n",
              "      <td>408908177301053440</td>\n",
              "      <td>как и обещал действительно какие времена были</td>\n",
              "    </tr>\n",
              "    <tr>\n",
              "      <th>153</th>\n",
              "      <td>408908449209397248</td>\n",
              "      <td>у меня вообще такая тема что с любой стороны м...</td>\n",
              "    </tr>\n",
              "    <tr>\n",
              "      <th>203</th>\n",
              "      <td>408909047065493505</td>\n",
              "      <td>ты только первую часть сначала посмотри</td>\n",
              "    </tr>\n",
              "    <tr>\n",
              "      <th>257</th>\n",
              "      <td>408909598834192385</td>\n",
              "      <td>нафиг такую жизнь имя другое взяла и зачем тол...</td>\n",
              "    </tr>\n",
              "    <tr>\n",
              "      <th>...</th>\n",
              "      <td>...</td>\n",
              "      <td>...</td>\n",
              "    </tr>\n",
              "    <tr>\n",
              "      <th>7175</th>\n",
              "      <td>409342217892167680</td>\n",
              "      <td>это опять официальная информация а на самом деле</td>\n",
              "    </tr>\n",
              "    <tr>\n",
              "      <th>7208</th>\n",
              "      <td>409344790707179521</td>\n",
              "      <td>ох уж этот двойнойсмысл</td>\n",
              "    </tr>\n",
              "    <tr>\n",
              "      <th>8042</th>\n",
              "      <td>409425343184121856</td>\n",
              "      <td>где мои лет прожиты они безвозвратно</td>\n",
              "    </tr>\n",
              "    <tr>\n",
              "      <th>8174</th>\n",
              "      <td>409435120236769280</td>\n",
              "      <td>не очень удачная тренировка</td>\n",
              "    </tr>\n",
              "    <tr>\n",
              "      <th>8181</th>\n",
              "      <td>409435486495993857</td>\n",
              "      <td>навестила сегодня своего малыша так не хотелос...</td>\n",
              "    </tr>\n",
              "  </tbody>\n",
              "</table>\n",
              "<p>112 rows × 2 columns</p>\n",
              "</div>"
            ],
            "text/plain": [
              "                      id                                               text\n",
              "124   408908174234628096           влюбляешься автоматически классные слова\n",
              "128   408908177301053440      как и обещал действительно какие времена были\n",
              "153   408908449209397248  у меня вообще такая тема что с любой стороны м...\n",
              "203   408909047065493505            ты только первую часть сначала посмотри\n",
              "257   408909598834192385  нафиг такую жизнь имя другое взяла и зачем тол...\n",
              "...                  ...                                                ...\n",
              "7175  409342217892167680   это опять официальная информация а на самом деле\n",
              "7208  409344790707179521                            ох уж этот двойнойсмысл\n",
              "8042  409425343184121856               где мои лет прожиты они безвозвратно\n",
              "8174  409435120236769280                        не очень удачная тренировка\n",
              "8181  409435486495993857  навестила сегодня своего малыша так не хотелос...\n",
              "\n",
              "[112 rows x 2 columns]"
            ]
          },
          "metadata": {
            "tags": []
          },
          "execution_count": 68
        }
      ]
    },
    {
      "cell_type": "code",
      "metadata": {
        "id": "Yc3QX5LaPWW9",
        "outputId": "316ad877-1543-4909-dd0a-70ba9214ab82",
        "colab": {
          "base_uri": "https://localhost:8080/",
          "height": 316
        }
      },
      "source": [
        "search('ADVB жить')"
      ],
      "execution_count": null,
      "outputs": [
        {
          "output_type": "execute_result",
          "data": {
            "text/html": [
              "<div>\n",
              "<style scoped>\n",
              "    .dataframe tbody tr th:only-of-type {\n",
              "        vertical-align: middle;\n",
              "    }\n",
              "\n",
              "    .dataframe tbody tr th {\n",
              "        vertical-align: top;\n",
              "    }\n",
              "\n",
              "    .dataframe thead th {\n",
              "        text-align: right;\n",
              "    }\n",
              "</style>\n",
              "<table border=\"1\" class=\"dataframe\">\n",
              "  <thead>\n",
              "    <tr style=\"text-align: right;\">\n",
              "      <th></th>\n",
              "      <th>id</th>\n",
              "      <th>text</th>\n",
              "    </tr>\n",
              "  </thead>\n",
              "  <tbody>\n",
              "    <tr>\n",
              "      <th>6666</th>\n",
              "      <td>409298006937444352</td>\n",
              "      <td>как в этом мире тяжело жить</td>\n",
              "    </tr>\n",
              "    <tr>\n",
              "      <th>3480</th>\n",
              "      <td>409048859302977536</td>\n",
              "      <td>теперь живу в самом освещенном районе ущепните...</td>\n",
              "    </tr>\n",
              "    <tr>\n",
              "      <th>8740</th>\n",
              "      <td>409567580786278400</td>\n",
              "      <td>кажется приказал долго жить не отвечает ни ни</td>\n",
              "    </tr>\n",
              "    <tr>\n",
              "      <th>566</th>\n",
              "      <td>408913070518312960</td>\n",
              "      <td>устала так скучно жить хоть бы в школу пошла н...</td>\n",
              "    </tr>\n",
              "    <tr>\n",
              "      <th>5053</th>\n",
              "      <td>408911068569010176</td>\n",
              "      <td>так и медстраховки еще хорошей нет как они там...</td>\n",
              "    </tr>\n",
              "    <tr>\n",
              "      <th>6335</th>\n",
              "      <td>409198454150557696</td>\n",
              "      <td>бл вот везет а ты где живешь</td>\n",
              "    </tr>\n",
              "    <tr>\n",
              "      <th>5476</th>\n",
              "      <td>409049539254165504</td>\n",
              "      <td>транспорт от спбу ру приказал долго жить</td>\n",
              "    </tr>\n",
              "    <tr>\n",
              "      <th>5860</th>\n",
              "      <td>409086806273953793</td>\n",
              "      <td>ужасно жить в месте где тебе никогда не подаря...</td>\n",
              "    </tr>\n",
              "    <tr>\n",
              "      <th>8300</th>\n",
              "      <td>409492715890429952</td>\n",
              "      <td>как же невозможно жить в этом мире лжи ненавис...</td>\n",
              "    </tr>\n",
              "  </tbody>\n",
              "</table>\n",
              "</div>"
            ],
            "text/plain": [
              "                      id                                               text\n",
              "6666  409298006937444352                        как в этом мире тяжело жить\n",
              "3480  409048859302977536  теперь живу в самом освещенном районе ущепните...\n",
              "8740  409567580786278400      кажется приказал долго жить не отвечает ни ни\n",
              "566   408913070518312960  устала так скучно жить хоть бы в школу пошла н...\n",
              "5053  408911068569010176  так и медстраховки еще хорошей нет как они там...\n",
              "6335  409198454150557696                       бл вот везет а ты где живешь\n",
              "5476  409049539254165504           транспорт от спбу ру приказал долго жить\n",
              "5860  409086806273953793  ужасно жить в месте где тебе никогда не подаря...\n",
              "8300  409492715890429952  как же невозможно жить в этом мире лжи ненавис..."
            ]
          },
          "metadata": {
            "tags": []
          },
          "execution_count": 63
        }
      ]
    },
    {
      "cell_type": "code",
      "metadata": {
        "id": "9xcA2CM6wW72",
        "outputId": "90981399-e3a8-4b8c-b1c3-42bd9dae569f",
        "colab": {
          "base_uri": "https://localhost:8080/",
          "height": 97
        }
      },
      "source": [
        "search('девочка+NOUN ADJF INTJ')"
      ],
      "execution_count": null,
      "outputs": [
        {
          "output_type": "stream",
          "text": [
            "['девочка+NOUN', 'ADJF', 'INTJ']\n"
          ],
          "name": "stdout"
        },
        {
          "output_type": "execute_result",
          "data": {
            "text/html": [
              "<div>\n",
              "<style scoped>\n",
              "    .dataframe tbody tr th:only-of-type {\n",
              "        vertical-align: middle;\n",
              "    }\n",
              "\n",
              "    .dataframe tbody tr th {\n",
              "        vertical-align: top;\n",
              "    }\n",
              "\n",
              "    .dataframe thead th {\n",
              "        text-align: right;\n",
              "    }\n",
              "</style>\n",
              "<table border=\"1\" class=\"dataframe\">\n",
              "  <thead>\n",
              "    <tr style=\"text-align: right;\">\n",
              "      <th></th>\n",
              "      <th>id</th>\n",
              "      <th>text</th>\n",
              "    </tr>\n",
              "  </thead>\n",
              "  <tbody>\n",
              "    <tr>\n",
              "      <th>9997</th>\n",
              "      <td>409766520009793536</td>\n",
              "      <td>девочка моя спасибо тебе за этот вечер мне оче...</td>\n",
              "    </tr>\n",
              "  </tbody>\n",
              "</table>\n",
              "</div>"
            ],
            "text/plain": [
              "                      id                                               text\n",
              "9997  409766520009793536  девочка моя спасибо тебе за этот вечер мне оче..."
            ]
          },
          "metadata": {
            "tags": []
          },
          "execution_count": 70
        }
      ]
    }
  ]
}